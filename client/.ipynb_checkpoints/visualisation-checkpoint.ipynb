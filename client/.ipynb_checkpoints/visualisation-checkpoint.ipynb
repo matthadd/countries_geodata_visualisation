{
 "cells": [
  {
   "cell_type": "code",
   "execution_count": 1,
   "id": "d09db71a",
   "metadata": {},
   "outputs": [],
   "source": [
    "import requests\n",
    "import numpy as np\n",
    "from matplotlib import pyplot as plt\n",
    "import json\n",
    "\n",
    "def draw_countries(to_plot):\n",
    "    # input: a list of two-elements list coordinates\n",
    "    # output: point drawing \n",
    "    data = np.array(to_plot)\n",
    "    x, y = data.T\n",
    "    plt.scatter(x, y)\n",
    "    plt.show()"
   ]
  },
  {
   "cell_type": "code",
   "execution_count": 2,
   "id": "10715248",
   "metadata": {},
   "outputs": [
    {
     "name": "stdout",
     "output_type": "stream",
     "text": [
      "<Response [200]>\n",
      "<class 'requests.models.Response'>\n"
     ]
    },
    {
     "data": {
      "image/png": "[encoded data removed]",
      "text/plain": [
       "<Figure size 432x288 with 1 Axes>"
      ]
     },
     "metadata": {
      "needs_background": "light"
     },
     "output_type": "display_data"
    }
   ],
   "source": [
    "def all_geometries():\n",
    "    # draw all the contents of the countries.geojson file in one go\n",
    "    uri = 'http://127.0.0.1:8000/all_geometries'\n",
    "    res = requests.get(uri)\n",
    "    countries_data = res.json()\n",
    "    to_plot = []\n",
    "    for i in range(len(countries_data['features'])):\n",
    "        if countries_data['features'][i]['geometry']['type'] == 'Polygon':\n",
    "            to_plot += (countries_data['features'][i]['geometry']['coordinates'][0])\n",
    "        else:\n",
    "            to_plot += (countries_data['features'][i]['geometry']['coordinates'][0][0])\n",
    "    draw_countries(to_plot)\n",
    "\n",
    "all_geometries()"
   ]
  },
  {
   "cell_type": "code",
   "execution_count": 3,
   "id": "1d74278b",
   "metadata": {},
   "outputs": [
    {
     "data": {
      "image/png": "[encoded data removed]",
      "text/plain": [
       "<Figure size 432x288 with 1 Axes>"
      ]
     },
     "metadata": {
      "needs_background": "light"
     },
     "output_type": "display_data"
    },
    {
     "name": "stdout",
     "output_type": "stream",
     "text": [
      "['FRA', 'DEU', 'ESP', 'ITA', 'AGO', 'BDI', 'CHE', 'BLR']\n"
     ]
    }
   ],
   "source": [
    "def iso_code(*args):\n",
    "    # takes as input one or multiple country names and returns the ISO3 country codes\n",
    "    \n",
    "    # build the query\n",
    "    url = 'http://127.0.0.1:8000/iso_code'\n",
    "    # build the payload\n",
    "    countries = list(args)\n",
    "    details = True\n",
    "    limit = 5\n",
    "    offset = 0\n",
    "    \n",
    "    data = []\n",
    "    \n",
    "    # circle throught all the pages\n",
    "    for i in range(0, len(countries), limit):\n",
    "        payload = json.dumps({\"countries\": countries, \"details\": details, \"limit\": 5, \"offset\": i})\n",
    "        res = requests.post(url, data=payload)\n",
    "        countries_data = res.json()\n",
    "        data += res.json()['data']\n",
    "        \n",
    "    # get the code to return\n",
    "    countries_code = []\n",
    "    for country in data:\n",
    "        countries_code.append(country['code'])\n",
    "        \n",
    "    to_plot = []\n",
    "    for d in data:\n",
    "        if d['geometry']['type'] == 'Polygon':\n",
    "            to_plot += (d['geometry']['coordinates'][0])\n",
    "        else:\n",
    "            to_plot += (d['geometry']['coordinates'][0][0])\n",
    "    draw_countries(to_plot)\n",
    "    \n",
    "    return countries_code\n",
    "\n",
    "countries_code = iso_code(\"France\", \"Germany\", \"Spain\", \"Italy\", \"Angola\", \"Burundi\", \"Switzerland\", \"Belarus\")\n",
    "print(countries_code)"
   ]
  },
  {
   "cell_type": "code",
   "execution_count": null,
   "id": "477bac8d",
   "metadata": {},
   "outputs": [],
   "source": []
  },
  {
   "cell_type": "code",
   "execution_count": null,
   "id": "5f786165",
   "metadata": {},
   "outputs": [],
   "source": []
  },
  {
   "cell_type": "code",
   "execution_count": null,
   "id": "38daf323",
   "metadata": {},
   "outputs": [],
   "source": []
  },
  {
   "cell_type": "code",
   "execution_count": null,
   "id": "f122e7f5",
   "metadata": {},
   "outputs": [],
   "source": []
  }
 ],
 "metadata": {
  "kernelspec": {
   "display_name": "Python 3 (ipykernel)",
   "language": "python",
   "name": "python3"
  },
  "language_info": {
   "codemirror_mode": {
    "name": "ipython",
    "version": 3
   },
   "file_extension": ".py",
   "mimetype": "text/x-python",
   "name": "python",
   "nbconvert_exporter": "python",
   "pygments_lexer": "ipython3",
   "version": "3.8.10"
  }
 },
 "nbformat": 4,
 "nbformat_minor": 5
}
